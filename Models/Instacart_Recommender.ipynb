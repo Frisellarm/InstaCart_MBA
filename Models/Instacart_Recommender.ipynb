{
 "cells": [
  {
   "cell_type": "markdown",
   "metadata": {},
   "source": [
    "## Import Libs for Recommender System"
   ]
  },
  {
   "cell_type": "code",
   "execution_count": 117,
   "metadata": {},
   "outputs": [],
   "source": [
    "#import basic Libraries\n",
    "import pandas as pd\n",
    "import numpy as np\n",
    "import random\n",
    "\n",
    "#Importing Sklearn\n",
    "from sklearn.preprocessing import StandardScaler, OneHotEncoder\n",
    "from sklearn.metrics.pairwise import cosine_similarity \n",
    "\n",
    "import warnings\n",
    "warnings.filterwarnings(\"ignore\")\n",
    "\n",
    "%matplotlib inline"
   ]
  },
  {
   "cell_type": "code",
   "execution_count": 26,
   "metadata": {},
   "outputs": [],
   "source": [
    "filenames = ['aisles','departments' ,'order_products__prior','order_products__train', 'orders','products']"
   ]
  },
  {
   "cell_type": "code",
   "execution_count": 27,
   "metadata": {},
   "outputs": [],
   "source": [
    "#import of all files from the data folder.\n",
    "aisles = pd.read_csv('./data/'+ filenames[0] + '.csv')\n",
    "departments = pd.read_csv('./data/'+ filenames[1] + '.csv')\n",
    "order_products__prior = pd.read_csv('./data/'+ filenames[2] + '.csv')\n",
    "order_products__train = pd.read_csv('./data/'+ filenames[3] + '.csv')\n",
    "orders = pd.read_csv('./data/'+ filenames[4] + '.csv')\n",
    "products = pd.read_csv('./data/'+ filenames[5] + '.csv')"
   ]
  },
  {
   "cell_type": "markdown",
   "metadata": {},
   "source": [
    "## Merging Datasets together"
   ]
  },
  {
   "cell_type": "code",
   "execution_count": 28,
   "metadata": {},
   "outputs": [],
   "source": [
    "opt = order_products__train.merge(products,how='left', on='product_id')\n",
    "opt = opt.merge(departments,how='left', on='department_id')\n",
    "opt = opt.merge(aisles,how='left', on='aisle_id')"
   ]
  },
  {
   "cell_type": "markdown",
   "metadata": {},
   "source": [
    "## Creating the recommender system"
   ]
  },
  {
   "cell_type": "markdown",
   "metadata": {},
   "source": [
    "#### Filtering the data by reorders"
   ]
  },
  {
   "cell_type": "code",
   "execution_count": 29,
   "metadata": {},
   "outputs": [],
   "source": [
    "reorders = opt[opt['reordered'] == 1]"
   ]
  },
  {
   "cell_type": "code",
   "execution_count": 30,
   "metadata": {},
   "outputs": [],
   "source": [
    "reorders['product_id'] = reorders['product_id'].astype('int64')"
   ]
  },
  {
   "cell_type": "code",
   "execution_count": 31,
   "metadata": {},
   "outputs": [],
   "source": [
    "# get list of hi volume products (products that occurr mo' than 1 tiempo)\n",
    "hivol = reorders.copy()['product_id'].value_counts().sort_values(ascending=False)\\\n",
    "    [reorders.copy()['product_id'].value_counts().sort_values(ascending=False) > 1].index.tolist()"
   ]
  },
  {
   "cell_type": "code",
   "execution_count": 32,
   "metadata": {},
   "outputs": [],
   "source": [
    "# mask the reorders dataframe to only incluse dem hi vol prods\n",
    "reorders = reorders[reorders['product_id'].isin(hivol)]"
   ]
  },
  {
   "cell_type": "code",
   "execution_count": 33,
   "metadata": {},
   "outputs": [],
   "source": [
    "#filters the High demand items greater than.\n",
    "reorders['hi_dem'] = (reorders.copy()['product_id'].value_counts().sort_values(ascending=False)>1)"
   ]
  },
  {
   "cell_type": "code",
   "execution_count": 34,
   "metadata": {},
   "outputs": [],
   "source": [
    "hidem_ord = reorders[reorders['hi_dem'] == True]"
   ]
  },
  {
   "cell_type": "code",
   "execution_count": 36,
   "metadata": {},
   "outputs": [],
   "source": [
    "user_orders = reorders.merge(orders)"
   ]
  },
  {
   "cell_type": "code",
   "execution_count": 37,
   "metadata": {},
   "outputs": [],
   "source": [
    "#reorders['hi_dem'] = \n",
    "user_orders['hi_dem'] = (user_orders.copy()['product_id'].value_counts().sort_values(ascending=False)>1)"
   ]
  },
  {
   "cell_type": "code",
   "execution_count": 38,
   "metadata": {},
   "outputs": [],
   "source": [
    "hidem_ord = user_orders[user_orders['hi_dem'] == True]"
   ]
  },
  {
   "cell_type": "markdown",
   "metadata": {},
   "source": [
    "### Setup Model - Compare Users to other Users"
   ]
  },
  {
   "cell_type": "code",
   "execution_count": 39,
   "metadata": {},
   "outputs": [],
   "source": [
    "#return the total items\n",
    "users = hidem_ord.groupby(['user_id','product_name']).size().sort_values(ascending=False).unstack().fillna(0)"
   ]
  },
  {
   "cell_type": "code",
   "execution_count": 40,
   "metadata": {},
   "outputs": [],
   "source": [
    "#creates a similiarity by users.\n",
    "users_sim = pd.DataFrame(cosine_similarity(users),index=users.index,columns=users.index)"
   ]
  },
  {
   "cell_type": "code",
   "execution_count": 41,
   "metadata": {},
   "outputs": [],
   "source": [
    "def next_prod(df,num_col):\n",
    "    return df[df.columns[num_col]].drop(df.columns[num_col]).sort_values(ascending=False).head(3)"
   ]
  },
  {
   "cell_type": "code",
   "execution_count": 42,
   "metadata": {},
   "outputs": [
    {
     "data": {
      "text/html": [
       "<div>\n",
       "<style scoped>\n",
       "    .dataframe tbody tr th:only-of-type {\n",
       "        vertical-align: middle;\n",
       "    }\n",
       "\n",
       "    .dataframe tbody tr th {\n",
       "        vertical-align: top;\n",
       "    }\n",
       "\n",
       "    .dataframe thead th {\n",
       "        text-align: right;\n",
       "    }\n",
       "</style>\n",
       "<table border=\"1\" class=\"dataframe\">\n",
       "  <thead>\n",
       "    <tr style=\"text-align: right;\">\n",
       "      <th>user_id</th>\n",
       "      <th>43254</th>\n",
       "      <th>48962</th>\n",
       "      <th>10453</th>\n",
       "    </tr>\n",
       "  </thead>\n",
       "  <tbody>\n",
       "    <tr>\n",
       "      <th>1711</th>\n",
       "      <td>0.5</td>\n",
       "      <td>0.353553</td>\n",
       "      <td>0.188982</td>\n",
       "    </tr>\n",
       "  </tbody>\n",
       "</table>\n",
       "</div>"
      ],
      "text/plain": [
       "user_id  43254     48962     10453\n",
       "1711       0.5  0.353553  0.188982"
      ]
     },
     "execution_count": 42,
     "metadata": {},
     "output_type": "execute_result"
    }
   ],
   "source": [
    "#returns similar users to this one.\n",
    "pd.DataFrame(next_prod(users_sim,56)).T"
   ]
  },
  {
   "cell_type": "markdown",
   "metadata": {},
   "source": [
    "## Recommendations for Products by User ID"
   ]
  },
  {
   "cell_type": "code",
   "execution_count": 44,
   "metadata": {},
   "outputs": [],
   "source": [
    "#return the total items in the basket from the aisles\n",
    "products = hidem_ord.groupby(['product_name','user_id']).size().sort_values(ascending=False).unstack().fillna(0)"
   ]
  },
  {
   "cell_type": "code",
   "execution_count": 45,
   "metadata": {},
   "outputs": [],
   "source": [
    "#creates a similiarity by users.\n",
    "products_sim = pd.DataFrame(cosine_similarity(products),index=products.index,columns=products.index)"
   ]
  },
  {
   "cell_type": "code",
   "execution_count": 46,
   "metadata": {},
   "outputs": [
    {
     "data": {
      "text/plain": [
       "(6567, 6336)"
      ]
     },
     "execution_count": 46,
     "metadata": {},
     "output_type": "execute_result"
    }
   ],
   "source": [
    "#checking the shape to ensure I set the columns and indexes correctly. \n",
    "products.shape"
   ]
  },
  {
   "cell_type": "code",
   "execution_count": 48,
   "metadata": {},
   "outputs": [
    {
     "data": {
      "text/html": [
       "<div>\n",
       "<style scoped>\n",
       "    .dataframe tbody tr th:only-of-type {\n",
       "        vertical-align: middle;\n",
       "    }\n",
       "\n",
       "    .dataframe tbody tr th {\n",
       "        vertical-align: top;\n",
       "    }\n",
       "\n",
       "    .dataframe thead th {\n",
       "        text-align: right;\n",
       "    }\n",
       "</style>\n",
       "<table border=\"1\" class=\"dataframe\">\n",
       "  <thead>\n",
       "    <tr style=\"text-align: right;\">\n",
       "      <th>product_name</th>\n",
       "      <th>Organic Heirloom Tomatoes</th>\n",
       "      <th>Organic Spinach Bunch</th>\n",
       "      <th>Salted Butter</th>\n",
       "    </tr>\n",
       "  </thead>\n",
       "  <tbody>\n",
       "    <tr>\n",
       "      <th>1% Low Fat Milk</th>\n",
       "      <td>0.57735</td>\n",
       "      <td>0.160128</td>\n",
       "      <td>0.144338</td>\n",
       "    </tr>\n",
       "  </tbody>\n",
       "</table>\n",
       "</div>"
      ],
      "text/plain": [
       "product_name     Organic Heirloom Tomatoes  Organic Spinach Bunch  \\\n",
       "1% Low Fat Milk                    0.57735               0.160128   \n",
       "\n",
       "product_name     Salted Butter  \n",
       "1% Low Fat Milk       0.144338  "
      ]
     },
     "execution_count": 48,
     "metadata": {},
     "output_type": "execute_result"
    }
   ],
   "source": [
    "#gives a recommendation for the last product added_to_cart\n",
    "pd.DataFrame(next_prod(products_sim,11)).T"
   ]
  },
  {
   "cell_type": "code",
   "execution_count": 49,
   "metadata": {},
   "outputs": [],
   "source": [
    "profile = pd.Series(np.zeros(len(products.columns.tolist())),users_sim[55])"
   ]
  },
  {
   "cell_type": "code",
   "execution_count": 50,
   "metadata": {},
   "outputs": [],
   "source": [
    "recommendations = np.dot(products.values,users_sim[55])"
   ]
  },
  {
   "cell_type": "code",
   "execution_count": 51,
   "metadata": {},
   "outputs": [],
   "source": [
    "recommendations = pd.Series(recommendations, index=products.index)"
   ]
  },
  {
   "cell_type": "code",
   "execution_count": 52,
   "metadata": {},
   "outputs": [
    {
     "data": {
      "text/plain": [
       "product_name\n",
       "Grape White/Green Seedless        11.120541\n",
       "Flour Tortillas                    1.902369\n",
       "Chocolate Peppermint Stick Bar     1.673560\n",
       "Banana                             1.399944\n",
       "Organic Avocado                    0.740677\n",
       "dtype: float64"
      ]
     },
     "execution_count": 52,
     "metadata": {},
     "output_type": "execute_result"
    }
   ],
   "source": [
    "recommendations.sort_values(ascending=False).head()"
   ]
  },
  {
   "cell_type": "markdown",
   "metadata": {},
   "source": [
    "### Recommendations by Products"
   ]
  },
  {
   "cell_type": "code",
   "execution_count": 53,
   "metadata": {},
   "outputs": [],
   "source": [
    "#return the total items\n",
    "ords = hidem_ord.groupby(['order_id','product_name']).size().sort_values(ascending=False).unstack().fillna(0)"
   ]
  },
  {
   "cell_type": "code",
   "execution_count": 54,
   "metadata": {},
   "outputs": [],
   "source": [
    "#creates a similiarity by users.\n",
    "ords_sim = pd.DataFrame(cosine_similarity(ords),index=ords.index,columns=ords.index)"
   ]
  },
  {
   "cell_type": "code",
   "execution_count": 56,
   "metadata": {},
   "outputs": [
    {
     "data": {
      "text/html": [
       "<div>\n",
       "<style scoped>\n",
       "    .dataframe tbody tr th:only-of-type {\n",
       "        vertical-align: middle;\n",
       "    }\n",
       "\n",
       "    .dataframe tbody tr th {\n",
       "        vertical-align: top;\n",
       "    }\n",
       "\n",
       "    .dataframe thead th {\n",
       "        text-align: right;\n",
       "    }\n",
       "</style>\n",
       "<table border=\"1\" class=\"dataframe\">\n",
       "  <thead>\n",
       "    <tr style=\"text-align: right;\">\n",
       "      <th>user_id</th>\n",
       "      <th>72696</th>\n",
       "      <th>174562</th>\n",
       "      <th>48806</th>\n",
       "    </tr>\n",
       "  </thead>\n",
       "  <tbody>\n",
       "    <tr>\n",
       "      <th>586</th>\n",
       "      <td>0.57735</td>\n",
       "      <td>0.57735</td>\n",
       "      <td>0.408248</td>\n",
       "    </tr>\n",
       "  </tbody>\n",
       "</table>\n",
       "</div>"
      ],
      "text/plain": [
       "user_id   72696    174562    48806 \n",
       "586      0.57735  0.57735  0.408248"
      ]
     },
     "execution_count": 56,
     "metadata": {},
     "output_type": "execute_result"
    }
   ],
   "source": [
    "#displays which users are similar to the current user.\n",
    "pd.DataFrame(next_prod(users_sim,19)).T"
   ]
  },
  {
   "cell_type": "markdown",
   "metadata": {},
   "source": [
    "### Product Recommender by Order ID"
   ]
  },
  {
   "cell_type": "code",
   "execution_count": 57,
   "metadata": {},
   "outputs": [],
   "source": [
    "baskets = hidem_ord.groupby(['product_name','order_id']).size().sort_values(ascending=False).unstack().fillna(0)"
   ]
  },
  {
   "cell_type": "code",
   "execution_count": 58,
   "metadata": {},
   "outputs": [],
   "source": [
    "basket_sim = pd.DataFrame(cosine_similarity(baskets),columns=baskets.index,index=baskets.index)"
   ]
  },
  {
   "cell_type": "code",
   "execution_count": 59,
   "metadata": {},
   "outputs": [
    {
     "data": {
      "text/plain": [
       "product_name\n",
       "Chocolate Cheerios Cereal                      0.577350\n",
       "Organic Green Peas                             0.408248\n",
       "Quick & Easy Steel Cut Irish Oatmeal           0.408248\n",
       "Small Size Flour Tortillas                     0.333333\n",
       "Raspberry on the Bottom Nonfat Greek Yogurt    0.235702\n",
       "Sweet Onions                                   0.218218\n",
       "Flat Parsley, Bunch                            0.174078\n",
       "Green Beans                                    0.149071\n",
       "Organic Kiwi                                   0.107211\n",
       "Name: Zucchini Squash, dtype: float64"
      ]
     },
     "execution_count": 59,
     "metadata": {},
     "output_type": "execute_result"
    }
   ],
   "source": [
    "basket_sim['Zucchini Squash'].sort_values(ascending=False).head(10)[1:]"
   ]
  },
  {
   "cell_type": "code",
   "execution_count": 60,
   "metadata": {},
   "outputs": [],
   "source": [
    "def Recommender_System(user_id):\n",
    "    \n",
    "    '''\n",
    "    Input User Id to see recommendations for the User\n",
    "    '''\n",
    "    \n",
    "    u = hidem_ord.groupby(['user_id','product_name']).size().sort_values(ascending=False).unstack().fillna(0)\n",
    "    u_sim = pd.DataFrame(cosine_similarity(u),index=u.index,columns=u.index)\n",
    "\n",
    "    p = hidem_ord.groupby(['product_name','user_id']).size().sort_values(ascending=False).unstack().fillna(0)\n",
    "    products_sim = pd.DataFrame(cosine_similarity(p),index=p.index,columns=p.index)\n",
    "    profile = pd.Series(np.zeros(len(u_sim.columns.tolist())),u_sim[user_id])\n",
    "    \n",
    "    recommendations = pd.Series(np.dot(p.values,users_sim[user_id]), index=p.index)\n",
    "    return recommendations.sort_values(ascending=False).head(), \n",
    "    "
   ]
  },
  {
   "cell_type": "code",
   "execution_count": 122,
   "metadata": {},
   "outputs": [
    {
     "data": {
      "text/plain": [
       "[130025]"
      ]
     },
     "execution_count": 122,
     "metadata": {},
     "output_type": "execute_result"
    }
   ],
   "source": [
    "#gives a random user ID to for input to the recommender system\n",
    "random.sample(hidem_ord['user_id'].tolist(),1)"
   ]
  },
  {
   "cell_type": "code",
   "execution_count": 123,
   "metadata": {},
   "outputs": [
    {
     "data": {
      "text/plain": [
       "(product_name\n",
       " Total 0% Nonfat Greek Yogurt              6.061393\n",
       " Carb Balance Flour Tortillas              1.977657\n",
       " Creamy Peanut Butter Spread With Honey    1.000000\n",
       " 100% Whole Grain Flaxseed Bread           1.000000\n",
       " Limes                                     0.776737\n",
       " dtype: float64,)"
      ]
     },
     "execution_count": 123,
     "metadata": {},
     "output_type": "execute_result"
    }
   ],
   "source": [
    "Recommender_System(130025)"
   ]
  }
 ],
 "metadata": {
  "anaconda-cloud": {},
  "kernelspec": {
   "display_name": "Python [default]",
   "language": "python",
   "name": "python3"
  },
  "language_info": {
   "codemirror_mode": {
    "name": "ipython",
    "version": 3
   },
   "file_extension": ".py",
   "mimetype": "text/x-python",
   "name": "python",
   "nbconvert_exporter": "python",
   "pygments_lexer": "ipython3",
   "version": "3.5.5"
  }
 },
 "nbformat": 4,
 "nbformat_minor": 2
}
