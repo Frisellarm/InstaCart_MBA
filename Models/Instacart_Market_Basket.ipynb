{
 "cells": [
  {
   "cell_type": "markdown",
   "metadata": {},
   "source": [
    "## Import Libs for Market Basket"
   ]
  },
  {
   "cell_type": "code",
   "execution_count": 148,
   "metadata": {},
   "outputs": [],
   "source": [
    "#import basic Libraries\n",
    "import pandas as pd\n",
    "import numpy as np\n",
    "from tqdm import tqdm\n",
    "\n",
    "#Visualizaiton imports\n",
    "import seaborn as sns\n",
    "import matplotlib.pyplot as plt\n",
    "\n",
    "#Importing Sklearn\n",
    "from sklearn.preprocessing import StandardScaler, OneHotEncoder\n",
    "\n",
    "#Import Market Basket Models\n",
    "from mlxtend.frequent_patterns import apriori\n",
    "from mlxtend.frequent_patterns import association_rules\n",
    "\n",
    "%matplotlib inline"
   ]
  },
  {
   "cell_type": "code",
   "execution_count": 149,
   "metadata": {},
   "outputs": [],
   "source": [
    "filenames = ['aisles','departments' ,'order_products__prior','order_products__train', 'orders','products']"
   ]
  },
  {
   "cell_type": "code",
   "execution_count": 150,
   "metadata": {},
   "outputs": [],
   "source": [
    "#import of all files from the data folder.\n",
    "aisles = pd.read_csv('./data/'+ filenames[0] + '.csv')\n",
    "departments = pd.read_csv('./data/'+ filenames[1] + '.csv')\n",
    "order_products__prior = pd.read_csv('./data/'+ filenames[2] + '.csv')\n",
    "order_products__train = pd.read_csv('./data/'+ filenames[3] + '.csv')\n",
    "orders = pd.read_csv('./data/'+ filenames[4] + '.csv')\n",
    "products = pd.read_csv('./data/'+ filenames[5] + '.csv')"
   ]
  },
  {
   "cell_type": "markdown",
   "metadata": {},
   "source": [
    "## EDA"
   ]
  },
  {
   "cell_type": "code",
   "execution_count": 151,
   "metadata": {},
   "outputs": [
    {
     "name": "stdout",
     "output_type": "stream",
     "text": [
      "aisles (134, 2) : Null values? False\n",
      "departments (21, 2) : Null values? False\n",
      "order_products__prior (32434489, 4) : Null values? False\n",
      "order_products__train (1384617, 4) : Null values? False\n",
      "orders (3421083, 7) : Null values? False\n",
      "products (49688, 4) : Null values? False\n"
     ]
    }
   ],
   "source": [
    "#checking the shape of each of the file and checks for any null values.\n",
    "for name in filenames:\n",
    "    print(name, eval(name).shape,\": Null values?\", eval(name).isnull().any()[0])"
   ]
  },
  {
   "cell_type": "code",
   "execution_count": 152,
   "metadata": {
    "scrolled": true
   },
   "outputs": [
    {
     "data": {
      "text/html": [
       "<div>\n",
       "<style scoped>\n",
       "    .dataframe tbody tr th:only-of-type {\n",
       "        vertical-align: middle;\n",
       "    }\n",
       "\n",
       "    .dataframe tbody tr th {\n",
       "        vertical-align: top;\n",
       "    }\n",
       "\n",
       "    .dataframe thead th {\n",
       "        text-align: right;\n",
       "    }\n",
       "</style>\n",
       "<table border=\"1\" class=\"dataframe\">\n",
       "  <thead>\n",
       "    <tr style=\"text-align: right;\">\n",
       "      <th></th>\n",
       "      <th>order_id</th>\n",
       "      <th>product_id</th>\n",
       "      <th>add_to_cart_order</th>\n",
       "      <th>reordered</th>\n",
       "    </tr>\n",
       "  </thead>\n",
       "  <tbody>\n",
       "    <tr>\n",
       "      <th>0</th>\n",
       "      <td>2</td>\n",
       "      <td>33120</td>\n",
       "      <td>1</td>\n",
       "      <td>1</td>\n",
       "    </tr>\n",
       "    <tr>\n",
       "      <th>1</th>\n",
       "      <td>2</td>\n",
       "      <td>28985</td>\n",
       "      <td>2</td>\n",
       "      <td>1</td>\n",
       "    </tr>\n",
       "    <tr>\n",
       "      <th>2</th>\n",
       "      <td>2</td>\n",
       "      <td>9327</td>\n",
       "      <td>3</td>\n",
       "      <td>0</td>\n",
       "    </tr>\n",
       "    <tr>\n",
       "      <th>3</th>\n",
       "      <td>2</td>\n",
       "      <td>45918</td>\n",
       "      <td>4</td>\n",
       "      <td>1</td>\n",
       "    </tr>\n",
       "    <tr>\n",
       "      <th>4</th>\n",
       "      <td>2</td>\n",
       "      <td>30035</td>\n",
       "      <td>5</td>\n",
       "      <td>0</td>\n",
       "    </tr>\n",
       "  </tbody>\n",
       "</table>\n",
       "</div>"
      ],
      "text/plain": [
       "   order_id  product_id  add_to_cart_order  reordered\n",
       "0         2       33120                  1          1\n",
       "1         2       28985                  2          1\n",
       "2         2        9327                  3          0\n",
       "3         2       45918                  4          1\n",
       "4         2       30035                  5          0"
      ]
     },
     "execution_count": 152,
     "metadata": {},
     "output_type": "execute_result"
    }
   ],
   "source": [
    "aisles.head()\n",
    "departments.head()\n",
    "#combine aisle and departments\n",
    "order_products__prior.head()"
   ]
  },
  {
   "cell_type": "raw",
   "metadata": {},
   "source": [
    "sns.pairplot(or)"
   ]
  },
  {
   "cell_type": "code",
   "execution_count": 155,
   "metadata": {},
   "outputs": [],
   "source": [
    "opt = order_products__train.merge(products,how='left', on='product_id')\n",
    "opt = opt.merge(departments,how='left', on='department_id')\n",
    "opt = opt.merge(aisles,how='left', on='aisle_id')"
   ]
  },
  {
   "cell_type": "code",
   "execution_count": 156,
   "metadata": {},
   "outputs": [],
   "source": [
    "#converting the id to string to preserve order.\n",
    "opt['aisle_id']= opt['aisle_id'].astype(str)"
   ]
  },
  {
   "cell_type": "code",
   "execution_count": 157,
   "metadata": {},
   "outputs": [
    {
     "data": {
      "text/plain": [
       "fresh vegetables              150609\n",
       "fresh fruits                  150473\n",
       "packaged vegetables fruits     78493\n",
       "yogurt                         55240\n",
       "packaged cheese                41699\n",
       "Name: aisle, dtype: int64"
      ]
     },
     "execution_count": 157,
     "metadata": {},
     "output_type": "execute_result"
    }
   ],
   "source": [
    "#checking the top product aisles.  \n",
    "opt[['aisle','aisle_id']]['aisle'].value_counts().head()"
   ]
  },
  {
   "cell_type": "code",
   "execution_count": 158,
   "metadata": {},
   "outputs": [
    {
     "data": {
      "text/plain": [
       "Banana                    18726\n",
       "Bag of Organic Bananas    15480\n",
       "Organic Strawberries      10894\n",
       "Organic Baby Spinach       9784\n",
       "Large Lemon                8135\n",
       "Name: product_name, dtype: int64"
      ]
     },
     "execution_count": 158,
     "metadata": {},
     "output_type": "execute_result"
    }
   ],
   "source": [
    "#checking products by name. \n",
    "opt[['product_name','product_id']]['product_name'].value_counts().head()"
   ]
  },
  {
   "cell_type": "markdown",
   "metadata": {},
   "source": [
    " ## Preprocessing for Market Basket"
   ]
  },
  {
   "cell_type": "code",
   "execution_count": 159,
   "metadata": {},
   "outputs": [],
   "source": [
    "#instanciate Oone hot encoder ot break out the data my aisle.\n",
    "ohe = OneHotEncoder(handle_unknown='ignore')"
   ]
  },
  {
   "cell_type": "code",
   "execution_count": 160,
   "metadata": {
    "scrolled": true
   },
   "outputs": [
    {
     "name": "stdout",
     "output_type": "stream",
     "text": [
      "# of unique aisles = 134\n"
     ]
    }
   ],
   "source": [
    "#test to  see # of aisles\n",
    "print('# of unique aisles =',len(opt['aisle_id'].unique()))\n",
    "aisle = ohe.fit_transform(opt['aisle_id'].astype(str).values.reshape(-1,1))"
   ]
  },
  {
   "cell_type": "code",
   "execution_count": 161,
   "metadata": {},
   "outputs": [],
   "source": [
    "#one hot encode the aisles and create a dense matrix.\n",
    "a_ohe = pd.DataFrame(aisle.toarray())\n",
    "aisle = a_ohe.to_dense()"
   ]
  },
  {
   "cell_type": "code",
   "execution_count": 162,
   "metadata": {},
   "outputs": [],
   "source": [
    "#add order_id to the one hot encoded matrix\n",
    "basket = opt[['order_id']].join(aisle)"
   ]
  },
  {
   "cell_type": "code",
   "execution_count": 163,
   "metadata": {},
   "outputs": [
    {
     "data": {
      "text/html": [
       "<div>\n",
       "<style scoped>\n",
       "    .dataframe tbody tr th:only-of-type {\n",
       "        vertical-align: middle;\n",
       "    }\n",
       "\n",
       "    .dataframe tbody tr th {\n",
       "        vertical-align: top;\n",
       "    }\n",
       "\n",
       "    .dataframe thead th {\n",
       "        text-align: right;\n",
       "    }\n",
       "</style>\n",
       "<table border=\"1\" class=\"dataframe\">\n",
       "  <thead>\n",
       "    <tr style=\"text-align: right;\">\n",
       "      <th></th>\n",
       "      <th>order_id</th>\n",
       "      <th>product_id</th>\n",
       "      <th>add_to_cart_order</th>\n",
       "      <th>reordered</th>\n",
       "      <th>product_name</th>\n",
       "      <th>aisle_id</th>\n",
       "      <th>department_id</th>\n",
       "      <th>department</th>\n",
       "      <th>aisle</th>\n",
       "    </tr>\n",
       "  </thead>\n",
       "  <tbody>\n",
       "  </tbody>\n",
       "</table>\n",
       "</div>"
      ],
      "text/plain": [
       "Empty DataFrame\n",
       "Columns: [order_id, product_id, add_to_cart_order, reordered, product_name, aisle_id, department_id, department, aisle]\n",
       "Index: []"
      ]
     },
     "execution_count": 163,
     "metadata": {},
     "output_type": "execute_result"
    }
   ],
   "source": [
    "opt[opt['aisle_id'] == 134]"
   ]
  },
  {
   "cell_type": "code",
   "execution_count": 164,
   "metadata": {},
   "outputs": [
    {
     "data": {
      "text/plain": [
       "range(0, 134)"
      ]
     },
     "execution_count": 164,
     "metadata": {},
     "output_type": "execute_result"
    }
   ],
   "source": [
    "range(len(opt['aisle_id'].unique()))"
   ]
  },
  {
   "cell_type": "code",
   "execution_count": 165,
   "metadata": {},
   "outputs": [
    {
     "data": {
      "text/plain": [
       "prepared soups salads    2936\n",
       "Name: aisle, dtype: int64"
      ]
     },
     "execution_count": 165,
     "metadata": {},
     "output_type": "execute_result"
    }
   ],
   "source": [
    "opt[opt['aisle_id'] == '1']['aisle'].value_counts()"
   ]
  },
  {
   "cell_type": "code",
   "execution_count": 166,
   "metadata": {
    "scrolled": true
   },
   "outputs": [
    {
     "data": {
      "text/html": [
       "<div>\n",
       "<style scoped>\n",
       "    .dataframe tbody tr th:only-of-type {\n",
       "        vertical-align: middle;\n",
       "    }\n",
       "\n",
       "    .dataframe tbody tr th {\n",
       "        vertical-align: top;\n",
       "    }\n",
       "\n",
       "    .dataframe thead th {\n",
       "        text-align: right;\n",
       "    }\n",
       "</style>\n",
       "<table border=\"1\" class=\"dataframe\">\n",
       "  <thead>\n",
       "    <tr style=\"text-align: right;\">\n",
       "      <th></th>\n",
       "      <th>order_id</th>\n",
       "      <th>0</th>\n",
       "      <th>1</th>\n",
       "      <th>2</th>\n",
       "      <th>3</th>\n",
       "      <th>4</th>\n",
       "      <th>5</th>\n",
       "      <th>6</th>\n",
       "      <th>7</th>\n",
       "      <th>8</th>\n",
       "      <th>...</th>\n",
       "      <th>124</th>\n",
       "      <th>125</th>\n",
       "      <th>126</th>\n",
       "      <th>127</th>\n",
       "      <th>128</th>\n",
       "      <th>129</th>\n",
       "      <th>130</th>\n",
       "      <th>131</th>\n",
       "      <th>132</th>\n",
       "      <th>133</th>\n",
       "    </tr>\n",
       "  </thead>\n",
       "  <tbody>\n",
       "    <tr>\n",
       "      <th>0</th>\n",
       "      <td>1</td>\n",
       "      <td>0.0</td>\n",
       "      <td>0.0</td>\n",
       "      <td>0.0</td>\n",
       "      <td>0.0</td>\n",
       "      <td>0.0</td>\n",
       "      <td>0.0</td>\n",
       "      <td>0.0</td>\n",
       "      <td>0.0</td>\n",
       "      <td>0.0</td>\n",
       "      <td>...</td>\n",
       "      <td>0.0</td>\n",
       "      <td>0.0</td>\n",
       "      <td>0.0</td>\n",
       "      <td>0.0</td>\n",
       "      <td>0.0</td>\n",
       "      <td>0.0</td>\n",
       "      <td>0.0</td>\n",
       "      <td>0.0</td>\n",
       "      <td>0.0</td>\n",
       "      <td>0.0</td>\n",
       "    </tr>\n",
       "    <tr>\n",
       "      <th>1</th>\n",
       "      <td>1</td>\n",
       "      <td>0.0</td>\n",
       "      <td>0.0</td>\n",
       "      <td>0.0</td>\n",
       "      <td>0.0</td>\n",
       "      <td>0.0</td>\n",
       "      <td>0.0</td>\n",
       "      <td>0.0</td>\n",
       "      <td>0.0</td>\n",
       "      <td>0.0</td>\n",
       "      <td>...</td>\n",
       "      <td>0.0</td>\n",
       "      <td>0.0</td>\n",
       "      <td>0.0</td>\n",
       "      <td>0.0</td>\n",
       "      <td>0.0</td>\n",
       "      <td>0.0</td>\n",
       "      <td>0.0</td>\n",
       "      <td>0.0</td>\n",
       "      <td>0.0</td>\n",
       "      <td>0.0</td>\n",
       "    </tr>\n",
       "    <tr>\n",
       "      <th>2</th>\n",
       "      <td>1</td>\n",
       "      <td>0.0</td>\n",
       "      <td>0.0</td>\n",
       "      <td>0.0</td>\n",
       "      <td>0.0</td>\n",
       "      <td>0.0</td>\n",
       "      <td>0.0</td>\n",
       "      <td>0.0</td>\n",
       "      <td>0.0</td>\n",
       "      <td>0.0</td>\n",
       "      <td>...</td>\n",
       "      <td>0.0</td>\n",
       "      <td>0.0</td>\n",
       "      <td>0.0</td>\n",
       "      <td>0.0</td>\n",
       "      <td>0.0</td>\n",
       "      <td>0.0</td>\n",
       "      <td>0.0</td>\n",
       "      <td>0.0</td>\n",
       "      <td>0.0</td>\n",
       "      <td>0.0</td>\n",
       "    </tr>\n",
       "    <tr>\n",
       "      <th>3</th>\n",
       "      <td>1</td>\n",
       "      <td>0.0</td>\n",
       "      <td>0.0</td>\n",
       "      <td>0.0</td>\n",
       "      <td>0.0</td>\n",
       "      <td>0.0</td>\n",
       "      <td>0.0</td>\n",
       "      <td>0.0</td>\n",
       "      <td>0.0</td>\n",
       "      <td>0.0</td>\n",
       "      <td>...</td>\n",
       "      <td>0.0</td>\n",
       "      <td>0.0</td>\n",
       "      <td>0.0</td>\n",
       "      <td>0.0</td>\n",
       "      <td>0.0</td>\n",
       "      <td>0.0</td>\n",
       "      <td>0.0</td>\n",
       "      <td>0.0</td>\n",
       "      <td>0.0</td>\n",
       "      <td>0.0</td>\n",
       "    </tr>\n",
       "    <tr>\n",
       "      <th>4</th>\n",
       "      <td>1</td>\n",
       "      <td>0.0</td>\n",
       "      <td>0.0</td>\n",
       "      <td>0.0</td>\n",
       "      <td>0.0</td>\n",
       "      <td>0.0</td>\n",
       "      <td>0.0</td>\n",
       "      <td>0.0</td>\n",
       "      <td>0.0</td>\n",
       "      <td>0.0</td>\n",
       "      <td>...</td>\n",
       "      <td>0.0</td>\n",
       "      <td>0.0</td>\n",
       "      <td>0.0</td>\n",
       "      <td>0.0</td>\n",
       "      <td>0.0</td>\n",
       "      <td>0.0</td>\n",
       "      <td>0.0</td>\n",
       "      <td>0.0</td>\n",
       "      <td>0.0</td>\n",
       "      <td>0.0</td>\n",
       "    </tr>\n",
       "  </tbody>\n",
       "</table>\n",
       "<p>5 rows × 135 columns</p>\n",
       "</div>"
      ],
      "text/plain": [
       "   order_id    0    1    2    3    4    5    6    7    8 ...   124  125  126  \\\n",
       "0         1  0.0  0.0  0.0  0.0  0.0  0.0  0.0  0.0  0.0 ...   0.0  0.0  0.0   \n",
       "1         1  0.0  0.0  0.0  0.0  0.0  0.0  0.0  0.0  0.0 ...   0.0  0.0  0.0   \n",
       "2         1  0.0  0.0  0.0  0.0  0.0  0.0  0.0  0.0  0.0 ...   0.0  0.0  0.0   \n",
       "3         1  0.0  0.0  0.0  0.0  0.0  0.0  0.0  0.0  0.0 ...   0.0  0.0  0.0   \n",
       "4         1  0.0  0.0  0.0  0.0  0.0  0.0  0.0  0.0  0.0 ...   0.0  0.0  0.0   \n",
       "\n",
       "   127  128  129  130  131  132  133  \n",
       "0  0.0  0.0  0.0  0.0  0.0  0.0  0.0  \n",
       "1  0.0  0.0  0.0  0.0  0.0  0.0  0.0  \n",
       "2  0.0  0.0  0.0  0.0  0.0  0.0  0.0  \n",
       "3  0.0  0.0  0.0  0.0  0.0  0.0  0.0  \n",
       "4  0.0  0.0  0.0  0.0  0.0  0.0  0.0  \n",
       "\n",
       "[5 rows x 135 columns]"
      ]
     },
     "execution_count": 166,
     "metadata": {},
     "output_type": "execute_result"
    }
   ],
   "source": [
    "#basket.drop(columns=0,inplace=True)\n",
    "#basket.rename(columns=range(len(opt['aisle_id'].unique())).tolist())\n",
    "#basket[0].sum()\n",
    "basket.head()"
   ]
  },
  {
   "cell_type": "code",
   "execution_count": 167,
   "metadata": {},
   "outputs": [],
   "source": [
    "#return the total items in the basket from the aisles\n",
    "basket = basket.groupby('order_id').sum()"
   ]
  },
  {
   "cell_type": "code",
   "execution_count": 168,
   "metadata": {},
   "outputs": [],
   "source": [
    "#covert any values to be a binary. \n",
    "def encode_units(x):\n",
    "    if x <= 0:\n",
    "        return 0\n",
    "    if x >= 1:\n",
    "        return 1\n",
    "\n",
    "basket_sets = basket.applymap(encode_units)"
   ]
  },
  {
   "cell_type": "code",
   "execution_count": 169,
   "metadata": {},
   "outputs": [
    {
     "name": "stderr",
     "output_type": "stream",
     "text": [
      "C:\\ProgramData\\Anaconda3\\lib\\site-packages\\ipykernel\\__main__.py:1: DeprecationWarning: Numeric-style type codes are deprecated and will result in an error in the future.\n",
      "  if __name__ == '__main__':\n"
     ]
    }
   ],
   "source": [
    "aisle_dict = dict(zip(opt['aisle_id'].unique().astype('Int64'),opt['aisle'].unique()))\n",
    "#aisle_dict = dict(zip((opt['aisle_id'].unique()),opt['aisle'].unique()))"
   ]
  },
  {
   "cell_type": "code",
   "execution_count": 264,
   "metadata": {},
   "outputs": [],
   "source": [
    "#aisle_dict\n",
    "#len(basket_sets.columns)"
   ]
  },
  {
   "cell_type": "code",
   "execution_count": 171,
   "metadata": {},
   "outputs": [],
   "source": [
    "basket_sets.columns = list(range(1,len(aisle_dict)+1))\n",
    "basket_sets.rename(columns=aisle_dict,inplace=True)"
   ]
  },
  {
   "cell_type": "code",
   "execution_count": 172,
   "metadata": {},
   "outputs": [
    {
     "data": {
      "text/html": [
       "<div>\n",
       "<style scoped>\n",
       "    .dataframe tbody tr th:only-of-type {\n",
       "        vertical-align: middle;\n",
       "    }\n",
       "\n",
       "    .dataframe tbody tr th {\n",
       "        vertical-align: top;\n",
       "    }\n",
       "\n",
       "    .dataframe thead th {\n",
       "        text-align: right;\n",
       "    }\n",
       "</style>\n",
       "<table border=\"1\" class=\"dataframe\">\n",
       "  <thead>\n",
       "    <tr style=\"text-align: right;\">\n",
       "      <th></th>\n",
       "      <th>prepared soups salads</th>\n",
       "      <th>specialty cheeses</th>\n",
       "      <th>energy granola bars</th>\n",
       "      <th>instant foods</th>\n",
       "      <th>marinades meat preparation</th>\n",
       "      <th>other</th>\n",
       "      <th>packaged meat</th>\n",
       "      <th>bakery desserts</th>\n",
       "      <th>pasta sauce</th>\n",
       "      <th>kitchen supplies</th>\n",
       "      <th>...</th>\n",
       "      <th>trail mix snack mix</th>\n",
       "      <th>feminine care</th>\n",
       "      <th>body lotions soap</th>\n",
       "      <th>tortillas flat bread</th>\n",
       "      <th>frozen appetizers sides</th>\n",
       "      <th>hot cereal pancake mixes</th>\n",
       "      <th>dry pasta</th>\n",
       "      <th>beauty</th>\n",
       "      <th>muscles joints pain relief</th>\n",
       "      <th>specialty wines champagnes</th>\n",
       "    </tr>\n",
       "    <tr>\n",
       "      <th>order_id</th>\n",
       "      <th></th>\n",
       "      <th></th>\n",
       "      <th></th>\n",
       "      <th></th>\n",
       "      <th></th>\n",
       "      <th></th>\n",
       "      <th></th>\n",
       "      <th></th>\n",
       "      <th></th>\n",
       "      <th></th>\n",
       "      <th></th>\n",
       "      <th></th>\n",
       "      <th></th>\n",
       "      <th></th>\n",
       "      <th></th>\n",
       "      <th></th>\n",
       "      <th></th>\n",
       "      <th></th>\n",
       "      <th></th>\n",
       "      <th></th>\n",
       "      <th></th>\n",
       "    </tr>\n",
       "  </thead>\n",
       "  <tbody>\n",
       "    <tr>\n",
       "      <th>1</th>\n",
       "      <td>0</td>\n",
       "      <td>0</td>\n",
       "      <td>0</td>\n",
       "      <td>0</td>\n",
       "      <td>0</td>\n",
       "      <td>0</td>\n",
       "      <td>0</td>\n",
       "      <td>0</td>\n",
       "      <td>0</td>\n",
       "      <td>0</td>\n",
       "      <td>...</td>\n",
       "      <td>0</td>\n",
       "      <td>0</td>\n",
       "      <td>0</td>\n",
       "      <td>0</td>\n",
       "      <td>0</td>\n",
       "      <td>0</td>\n",
       "      <td>0</td>\n",
       "      <td>0</td>\n",
       "      <td>0</td>\n",
       "      <td>0</td>\n",
       "    </tr>\n",
       "    <tr>\n",
       "      <th>36</th>\n",
       "      <td>0</td>\n",
       "      <td>1</td>\n",
       "      <td>0</td>\n",
       "      <td>0</td>\n",
       "      <td>0</td>\n",
       "      <td>0</td>\n",
       "      <td>0</td>\n",
       "      <td>0</td>\n",
       "      <td>0</td>\n",
       "      <td>0</td>\n",
       "      <td>...</td>\n",
       "      <td>0</td>\n",
       "      <td>0</td>\n",
       "      <td>0</td>\n",
       "      <td>0</td>\n",
       "      <td>0</td>\n",
       "      <td>0</td>\n",
       "      <td>0</td>\n",
       "      <td>0</td>\n",
       "      <td>0</td>\n",
       "      <td>0</td>\n",
       "    </tr>\n",
       "    <tr>\n",
       "      <th>38</th>\n",
       "      <td>0</td>\n",
       "      <td>0</td>\n",
       "      <td>0</td>\n",
       "      <td>0</td>\n",
       "      <td>0</td>\n",
       "      <td>0</td>\n",
       "      <td>0</td>\n",
       "      <td>0</td>\n",
       "      <td>0</td>\n",
       "      <td>0</td>\n",
       "      <td>...</td>\n",
       "      <td>0</td>\n",
       "      <td>0</td>\n",
       "      <td>0</td>\n",
       "      <td>0</td>\n",
       "      <td>0</td>\n",
       "      <td>0</td>\n",
       "      <td>0</td>\n",
       "      <td>0</td>\n",
       "      <td>0</td>\n",
       "      <td>0</td>\n",
       "    </tr>\n",
       "    <tr>\n",
       "      <th>96</th>\n",
       "      <td>0</td>\n",
       "      <td>0</td>\n",
       "      <td>0</td>\n",
       "      <td>0</td>\n",
       "      <td>0</td>\n",
       "      <td>0</td>\n",
       "      <td>0</td>\n",
       "      <td>0</td>\n",
       "      <td>0</td>\n",
       "      <td>0</td>\n",
       "      <td>...</td>\n",
       "      <td>0</td>\n",
       "      <td>0</td>\n",
       "      <td>0</td>\n",
       "      <td>0</td>\n",
       "      <td>0</td>\n",
       "      <td>0</td>\n",
       "      <td>0</td>\n",
       "      <td>0</td>\n",
       "      <td>0</td>\n",
       "      <td>0</td>\n",
       "    </tr>\n",
       "    <tr>\n",
       "      <th>98</th>\n",
       "      <td>0</td>\n",
       "      <td>1</td>\n",
       "      <td>0</td>\n",
       "      <td>0</td>\n",
       "      <td>0</td>\n",
       "      <td>0</td>\n",
       "      <td>0</td>\n",
       "      <td>0</td>\n",
       "      <td>0</td>\n",
       "      <td>0</td>\n",
       "      <td>...</td>\n",
       "      <td>0</td>\n",
       "      <td>0</td>\n",
       "      <td>0</td>\n",
       "      <td>1</td>\n",
       "      <td>1</td>\n",
       "      <td>0</td>\n",
       "      <td>0</td>\n",
       "      <td>0</td>\n",
       "      <td>0</td>\n",
       "      <td>0</td>\n",
       "    </tr>\n",
       "  </tbody>\n",
       "</table>\n",
       "<p>5 rows × 134 columns</p>\n",
       "</div>"
      ],
      "text/plain": [
       "          prepared soups salads  specialty cheeses  energy granola bars  \\\n",
       "order_id                                                                  \n",
       "1                             0                  0                    0   \n",
       "36                            0                  1                    0   \n",
       "38                            0                  0                    0   \n",
       "96                            0                  0                    0   \n",
       "98                            0                  1                    0   \n",
       "\n",
       "          instant foods  marinades meat preparation  other  packaged meat  \\\n",
       "order_id                                                                    \n",
       "1                     0                           0      0              0   \n",
       "36                    0                           0      0              0   \n",
       "38                    0                           0      0              0   \n",
       "96                    0                           0      0              0   \n",
       "98                    0                           0      0              0   \n",
       "\n",
       "          bakery desserts  pasta sauce  kitchen supplies  \\\n",
       "order_id                                                   \n",
       "1                       0            0                 0   \n",
       "36                      0            0                 0   \n",
       "38                      0            0                 0   \n",
       "96                      0            0                 0   \n",
       "98                      0            0                 0   \n",
       "\n",
       "                     ...              trail mix snack mix  feminine care  \\\n",
       "order_id             ...                                                   \n",
       "1                    ...                                0              0   \n",
       "36                   ...                                0              0   \n",
       "38                   ...                                0              0   \n",
       "96                   ...                                0              0   \n",
       "98                   ...                                0              0   \n",
       "\n",
       "          body lotions soap  tortillas flat bread  frozen appetizers sides  \\\n",
       "order_id                                                                     \n",
       "1                         0                     0                        0   \n",
       "36                        0                     0                        0   \n",
       "38                        0                     0                        0   \n",
       "96                        0                     0                        0   \n",
       "98                        0                     1                        1   \n",
       "\n",
       "          hot cereal pancake mixes  dry pasta  beauty  \\\n",
       "order_id                                                \n",
       "1                                0          0       0   \n",
       "36                               0          0       0   \n",
       "38                               0          0       0   \n",
       "96                               0          0       0   \n",
       "98                               0          0       0   \n",
       "\n",
       "          muscles joints pain relief  specialty wines champagnes  \n",
       "order_id                                                          \n",
       "1                                  0                           0  \n",
       "36                                 0                           0  \n",
       "38                                 0                           0  \n",
       "96                                 0                           0  \n",
       "98                                 0                           0  \n",
       "\n",
       "[5 rows x 134 columns]"
      ]
     },
     "execution_count": 172,
     "metadata": {},
     "output_type": "execute_result"
    }
   ],
   "source": [
    "basket_sets.head()"
   ]
  },
  {
   "cell_type": "code",
   "execution_count": 173,
   "metadata": {},
   "outputs": [],
   "source": [
    "#creates conditions for the items in the basket.\n",
    "frequent_itemsets = apriori(basket_sets, min_support=0.07, use_colnames=True)"
   ]
  },
  {
   "cell_type": "markdown",
   "metadata": {},
   "source": [
    "## Market Basket Results"
   ]
  },
  {
   "cell_type": "code",
   "execution_count": 174,
   "metadata": {},
   "outputs": [],
   "source": [
    "#creates the rules to filter.\n",
    "rules = association_rules(frequent_itemsets, metric=\"lift\", min_threshold=1)"
   ]
  },
  {
   "cell_type": "code",
   "execution_count": 175,
   "metadata": {},
   "outputs": [
    {
     "data": {
      "text/html": [
       "<div>\n",
       "<style scoped>\n",
       "    .dataframe tbody tr th:only-of-type {\n",
       "        vertical-align: middle;\n",
       "    }\n",
       "\n",
       "    .dataframe tbody tr th {\n",
       "        vertical-align: top;\n",
       "    }\n",
       "\n",
       "    .dataframe thead th {\n",
       "        text-align: right;\n",
       "    }\n",
       "</style>\n",
       "<table border=\"1\" class=\"dataframe\">\n",
       "  <thead>\n",
       "    <tr style=\"text-align: right;\">\n",
       "      <th></th>\n",
       "      <th>antecedants</th>\n",
       "      <th>consequents</th>\n",
       "      <th>antecedent support</th>\n",
       "      <th>consequent support</th>\n",
       "      <th>support</th>\n",
       "      <th>confidence</th>\n",
       "      <th>lift</th>\n",
       "      <th>leverage</th>\n",
       "      <th>conviction</th>\n",
       "    </tr>\n",
       "  </thead>\n",
       "  <tbody>\n",
       "    <tr>\n",
       "      <th>0</th>\n",
       "      <td>(refrigerated)</td>\n",
       "      <td>(fresh fruits)</td>\n",
       "      <td>0.133375</td>\n",
       "      <td>0.550099</td>\n",
       "      <td>0.086701</td>\n",
       "      <td>0.650057</td>\n",
       "      <td>1.181708</td>\n",
       "      <td>0.013332</td>\n",
       "      <td>1.285640</td>\n",
       "    </tr>\n",
       "    <tr>\n",
       "      <th>1</th>\n",
       "      <td>(fresh fruits)</td>\n",
       "      <td>(refrigerated)</td>\n",
       "      <td>0.550099</td>\n",
       "      <td>0.133375</td>\n",
       "      <td>0.086701</td>\n",
       "      <td>0.157610</td>\n",
       "      <td>1.181708</td>\n",
       "      <td>0.013332</td>\n",
       "      <td>1.028770</td>\n",
       "    </tr>\n",
       "    <tr>\n",
       "      <th>2</th>\n",
       "      <td>(packaged vegetables fruits)</td>\n",
       "      <td>(fresh vegetables)</td>\n",
       "      <td>0.383030</td>\n",
       "      <td>0.450975</td>\n",
       "      <td>0.252361</td>\n",
       "      <td>0.658853</td>\n",
       "      <td>1.460953</td>\n",
       "      <td>0.079624</td>\n",
       "      <td>1.609352</td>\n",
       "    </tr>\n",
       "    <tr>\n",
       "      <th>3</th>\n",
       "      <td>(fresh vegetables)</td>\n",
       "      <td>(packaged vegetables fruits)</td>\n",
       "      <td>0.450975</td>\n",
       "      <td>0.383030</td>\n",
       "      <td>0.252361</td>\n",
       "      <td>0.559589</td>\n",
       "      <td>1.460953</td>\n",
       "      <td>0.079624</td>\n",
       "      <td>1.400896</td>\n",
       "    </tr>\n",
       "    <tr>\n",
       "      <th>4</th>\n",
       "      <td>(frozen produce)</td>\n",
       "      <td>(fresh fruits)</td>\n",
       "      <td>0.128299</td>\n",
       "      <td>0.550099</td>\n",
       "      <td>0.093362</td>\n",
       "      <td>0.727694</td>\n",
       "      <td>1.322841</td>\n",
       "      <td>0.022785</td>\n",
       "      <td>1.652187</td>\n",
       "    </tr>\n",
       "  </tbody>\n",
       "</table>\n",
       "</div>"
      ],
      "text/plain": [
       "                    antecedants                   consequents  \\\n",
       "0                (refrigerated)                (fresh fruits)   \n",
       "1                (fresh fruits)                (refrigerated)   \n",
       "2  (packaged vegetables fruits)            (fresh vegetables)   \n",
       "3            (fresh vegetables)  (packaged vegetables fruits)   \n",
       "4              (frozen produce)                (fresh fruits)   \n",
       "\n",
       "   antecedent support  consequent support   support  confidence      lift  \\\n",
       "0            0.133375            0.550099  0.086701    0.650057  1.181708   \n",
       "1            0.550099            0.133375  0.086701    0.157610  1.181708   \n",
       "2            0.383030            0.450975  0.252361    0.658853  1.460953   \n",
       "3            0.450975            0.383030  0.252361    0.559589  1.460953   \n",
       "4            0.128299            0.550099  0.093362    0.727694  1.322841   \n",
       "\n",
       "   leverage  conviction  \n",
       "0  0.013332    1.285640  \n",
       "1  0.013332    1.028770  \n",
       "2  0.079624    1.609352  \n",
       "3  0.079624    1.400896  \n",
       "4  0.022785    1.652187  "
      ]
     },
     "execution_count": 175,
     "metadata": {},
     "output_type": "execute_result"
    }
   ],
   "source": [
    "rules.head()"
   ]
  },
  {
   "cell_type": "markdown",
   "metadata": {},
   "source": [
    "In the above example, the {Diaper} is the **antecedent** and the {Beer} is the consequent. Both antecedents and consequents can have multiple items. In other words, {Diaper, Gum} -> {Beer, Chips} is a valid rule.\n",
    "\n",
    "**Support** is the relative frequency that the rules show up. In many instances, you may want to look for high support in order to make sure it is a useful relationship. However, there may be instances where a low support is useful if you are trying to find “hidden” relationships.\n",
    "\n",
    "**Confidence** is a measure of the reliability of the rule. A confidence of .5 in the above example would mean that in 50% of the cases where Diaper and Gum were purchased, the purchase also included Beer and Chips. For product recommendation, a 50% confidence may be perfectly acceptable but in a medical situation, this level may not be high enough.\n",
    "\n",
    "**Lift** is the ratio of the observed support to that expected if the two rules were independent (see wikipedia). The basic rule of thumb is that a lift value close to 1 means the rules were completely independent. Lift values > 1 are generally more “interesting” and could be indicative of a useful rule pattern."
   ]
  },
  {
   "cell_type": "code",
   "execution_count": 176,
   "metadata": {
    "scrolled": true
   },
   "outputs": [
    {
     "data": {
      "text/html": [
       "<div>\n",
       "<style scoped>\n",
       "    .dataframe tbody tr th:only-of-type {\n",
       "        vertical-align: middle;\n",
       "    }\n",
       "\n",
       "    .dataframe tbody tr th {\n",
       "        vertical-align: top;\n",
       "    }\n",
       "\n",
       "    .dataframe thead th {\n",
       "        text-align: right;\n",
       "    }\n",
       "</style>\n",
       "<table border=\"1\" class=\"dataframe\">\n",
       "  <thead>\n",
       "    <tr style=\"text-align: right;\">\n",
       "      <th></th>\n",
       "      <th>antecedants</th>\n",
       "      <th>consequents</th>\n",
       "      <th>antecedent support</th>\n",
       "      <th>consequent support</th>\n",
       "      <th>support</th>\n",
       "      <th>confidence</th>\n",
       "      <th>lift</th>\n",
       "      <th>leverage</th>\n",
       "      <th>conviction</th>\n",
       "    </tr>\n",
       "  </thead>\n",
       "  <tbody>\n",
       "    <tr>\n",
       "      <th>27</th>\n",
       "      <td>(eggs, fresh fruits)</td>\n",
       "      <td>(fresh vegetables)</td>\n",
       "      <td>0.104025</td>\n",
       "      <td>0.450975</td>\n",
       "      <td>0.074355</td>\n",
       "      <td>0.714778</td>\n",
       "      <td>1.584960</td>\n",
       "      <td>0.027442</td>\n",
       "      <td>1.924901</td>\n",
       "    </tr>\n",
       "    <tr>\n",
       "      <th>28</th>\n",
       "      <td>(fresh vegetables, fresh fruits)</td>\n",
       "      <td>(eggs)</td>\n",
       "      <td>0.327333</td>\n",
       "      <td>0.147459</td>\n",
       "      <td>0.074355</td>\n",
       "      <td>0.227153</td>\n",
       "      <td>1.540445</td>\n",
       "      <td>0.026086</td>\n",
       "      <td>1.103117</td>\n",
       "    </tr>\n",
       "    <tr>\n",
       "      <th>29</th>\n",
       "      <td>(eggs)</td>\n",
       "      <td>(fresh vegetables, fresh fruits)</td>\n",
       "      <td>0.147459</td>\n",
       "      <td>0.327333</td>\n",
       "      <td>0.074355</td>\n",
       "      <td>0.504238</td>\n",
       "      <td>1.540445</td>\n",
       "      <td>0.026086</td>\n",
       "      <td>1.356836</td>\n",
       "    </tr>\n",
       "    <tr>\n",
       "      <th>30</th>\n",
       "      <td>(fresh vegetables)</td>\n",
       "      <td>(eggs, fresh fruits)</td>\n",
       "      <td>0.450975</td>\n",
       "      <td>0.104025</td>\n",
       "      <td>0.074355</td>\n",
       "      <td>0.164875</td>\n",
       "      <td>1.584960</td>\n",
       "      <td>0.027442</td>\n",
       "      <td>1.072864</td>\n",
       "    </tr>\n",
       "    <tr>\n",
       "      <th>34</th>\n",
       "      <td>(milk)</td>\n",
       "      <td>(yogurt)</td>\n",
       "      <td>0.223750</td>\n",
       "      <td>0.253405</td>\n",
       "      <td>0.086991</td>\n",
       "      <td>0.388787</td>\n",
       "      <td>1.534251</td>\n",
       "      <td>0.030292</td>\n",
       "      <td>1.221497</td>\n",
       "    </tr>\n",
       "  </tbody>\n",
       "</table>\n",
       "</div>"
      ],
      "text/plain": [
       "                         antecedants                       consequents  \\\n",
       "27              (eggs, fresh fruits)                (fresh vegetables)   \n",
       "28  (fresh vegetables, fresh fruits)                            (eggs)   \n",
       "29                            (eggs)  (fresh vegetables, fresh fruits)   \n",
       "30                (fresh vegetables)              (eggs, fresh fruits)   \n",
       "34                            (milk)                          (yogurt)   \n",
       "\n",
       "    antecedent support  consequent support   support  confidence      lift  \\\n",
       "27            0.104025            0.450975  0.074355    0.714778  1.584960   \n",
       "28            0.327333            0.147459  0.074355    0.227153  1.540445   \n",
       "29            0.147459            0.327333  0.074355    0.504238  1.540445   \n",
       "30            0.450975            0.104025  0.074355    0.164875  1.584960   \n",
       "34            0.223750            0.253405  0.086991    0.388787  1.534251   \n",
       "\n",
       "    leverage  conviction  \n",
       "27  0.027442    1.924901  \n",
       "28  0.026086    1.103117  \n",
       "29  0.026086    1.356836  \n",
       "30  0.027442    1.072864  \n",
       "34  0.030292    1.221497  "
      ]
     },
     "execution_count": 176,
     "metadata": {},
     "output_type": "execute_result"
    }
   ],
   "source": [
    "#sorts to see the lift greater than or equal to 1\n",
    "rules[rules['lift'] >= 1.5].head()"
   ]
  },
  {
   "cell_type": "markdown",
   "metadata": {},
   "source": [
    "## Market Basket for Products - Tasks\n",
    "Need to filter out products that have been reordered to reduce the size of the product matrix. Once I have the reordered products, I can join the one hot encoded items to the order Id's\n"
   ]
  },
  {
   "cell_type": "code",
   "execution_count": 266,
   "metadata": {},
   "outputs": [],
   "source": [
    "reorders = opt[opt['reordered'] == 1]"
   ]
  },
  {
   "cell_type": "code",
   "execution_count": 267,
   "metadata": {},
   "outputs": [
    {
     "name": "stderr",
     "output_type": "stream",
     "text": [
      "C:\\ProgramData\\Anaconda3\\lib\\site-packages\\ipykernel\\__main__.py:1: SettingWithCopyWarning: \n",
      "A value is trying to be set on a copy of a slice from a DataFrame.\n",
      "Try using .loc[row_indexer,col_indexer] = value instead\n",
      "\n",
      "See the caveats in the documentation: http://pandas.pydata.org/pandas-docs/stable/indexing.html#indexing-view-versus-copy\n",
      "  if __name__ == '__main__':\n"
     ]
    }
   ],
   "source": [
    "reorders['product_id'] = reorders['product_id'].astype('int64')"
   ]
  },
  {
   "cell_type": "code",
   "execution_count": 268,
   "metadata": {},
   "outputs": [
    {
     "data": {
      "text/plain": [
       "(828824, 9)"
      ]
     },
     "execution_count": 268,
     "metadata": {},
     "output_type": "execute_result"
    }
   ],
   "source": [
    "reorders.head()\n",
    "reorders.shape"
   ]
  },
  {
   "cell_type": "code",
   "execution_count": 269,
   "metadata": {},
   "outputs": [
    {
     "data": {
      "text/plain": [
       "order_id              int64\n",
       "product_id            int64\n",
       "add_to_cart_order     int64\n",
       "reordered             int64\n",
       "product_name         object\n",
       "aisle_id             object\n",
       "department_id         int64\n",
       "department           object\n",
       "aisle                object\n",
       "dtype: object"
      ]
     },
     "execution_count": 269,
     "metadata": {},
     "output_type": "execute_result"
    }
   ],
   "source": [
    "reorders.dtypes"
   ]
  },
  {
   "cell_type": "code",
   "execution_count": 270,
   "metadata": {},
   "outputs": [],
   "source": [
    "# get list of hi volume products (products that occurr mo' than 1 tiempo)\n",
    "hivol = reorders.copy()['product_id'].value_counts().sort_values(ascending=False)\\\n",
    "    [reorders.copy()['product_id'].value_counts().sort_values(ascending=False) > 1].index.tolist()"
   ]
  },
  {
   "cell_type": "code",
   "execution_count": 271,
   "metadata": {},
   "outputs": [],
   "source": [
    "# mask the reorders dataframe to only incluse dem hi vol prods, yo\n",
    "reorders = reorders[reorders['product_id'].isin(hivol)]"
   ]
  },
  {
   "cell_type": "code",
   "execution_count": 272,
   "metadata": {},
   "outputs": [],
   "source": [
    "#reorders['hi_dem'] = \n",
    "reorders['hi_dem'] = (reorders.copy()['product_id'].value_counts().sort_values(ascending=False)>1)"
   ]
  },
  {
   "cell_type": "code",
   "execution_count": 273,
   "metadata": {},
   "outputs": [],
   "source": [
    "hidem_ord = reorders[reorders['hi_dem'] == True]"
   ]
  },
  {
   "cell_type": "code",
   "execution_count": 247,
   "metadata": {},
   "outputs": [
    {
     "name": "stderr",
     "output_type": "stream",
     "text": [
      "C:\\ProgramData\\Anaconda3\\lib\\site-packages\\ipykernel\\__main__.py:1: SettingWithCopyWarning: \n",
      "A value is trying to be set on a copy of a slice from a DataFrame.\n",
      "Try using .loc[row_indexer,col_indexer] = value instead\n",
      "\n",
      "See the caveats in the documentation: http://pandas.pydata.org/pandas-docs/stable/indexing.html#indexing-view-versus-copy\n",
      "  if __name__ == '__main__':\n"
     ]
    }
   ],
   "source": [
    "hidem_ord['product_id'] = hidem_ord.copy()['product_id'].astype(str)"
   ]
  },
  {
   "cell_type": "code",
   "execution_count": 248,
   "metadata": {},
   "outputs": [],
   "source": [
    "#tranposes the data to ensure that it is correctly fitted.\n",
    "product = ohe.fit_transform(hidem_ord['product_id'].values.reshape(-1,1))"
   ]
  },
  {
   "cell_type": "code",
   "execution_count": 249,
   "metadata": {
    "scrolled": true
   },
   "outputs": [],
   "source": [
    "p_ohe = pd.DataFrame(product.toarray())\n",
    "products = p_ohe.to_dense()"
   ]
  },
  {
   "cell_type": "code",
   "execution_count": 250,
   "metadata": {},
   "outputs": [
    {
     "data": {
      "text/plain": [
       "(13087, 4823)"
      ]
     },
     "execution_count": 250,
     "metadata": {},
     "output_type": "execute_result"
    }
   ],
   "source": [
    "products.shape"
   ]
  },
  {
   "cell_type": "code",
   "execution_count": 251,
   "metadata": {},
   "outputs": [],
   "source": [
    "basket = hidem_ord[['order_id']].join(products)"
   ]
  },
  {
   "cell_type": "code",
   "execution_count": 252,
   "metadata": {},
   "outputs": [],
   "source": [
    "#return the total items in the basket from the aisles\n",
    "basket = basket.groupby('order_id').sum()"
   ]
  },
  {
   "cell_type": "code",
   "execution_count": 253,
   "metadata": {},
   "outputs": [],
   "source": [
    "#covert any values to be a binary.\n",
    "def encode_units(x):\n",
    "    if x <= 0:\n",
    "        return 0\n",
    "    if x >= 1:\n",
    "        return 1\n",
    "\n",
    "basket_sets = basket.applymap(encode_units)"
   ]
  },
  {
   "cell_type": "code",
   "execution_count": 254,
   "metadata": {},
   "outputs": [
    {
     "name": "stderr",
     "output_type": "stream",
     "text": [
      "C:\\ProgramData\\Anaconda3\\lib\\site-packages\\ipykernel\\__main__.py:1: DeprecationWarning: Numeric-style type codes are deprecated and will result in an error in the future.\n",
      "  if __name__ == '__main__':\n"
     ]
    }
   ],
   "source": [
    "pro_dict = dict(zip(hidem_ord['product_id'].unique().astype('Int64'),hidem_ord['product_name'].unique()))"
   ]
  },
  {
   "cell_type": "code",
   "execution_count": 255,
   "metadata": {},
   "outputs": [],
   "source": [
    "len(pro_dict)\n",
    "pro_dict = dict(zip(list(range(0,len(hidem_ord['product_id'].unique()))),hidem_ord['product_name'].unique()))"
   ]
  },
  {
   "cell_type": "code",
   "execution_count": 256,
   "metadata": {},
   "outputs": [],
   "source": [
    "#rename the columns for easier analysis in rules. \n",
    "basket_sets.columns = list(range(0,len(pro_dict)))\n",
    "basket_sets.rename(columns=pro_dict,inplace=True)"
   ]
  },
  {
   "cell_type": "code",
   "execution_count": 257,
   "metadata": {},
   "outputs": [
    {
     "data": {
      "text/plain": [
       "Organic 4% Milk Fat Whole Milk Cottage Cheese    1\n",
       "Lightly Smoked Sardines in Olive Oil             0\n",
       "Spring Water                                     2\n",
       "Cage Free Extra Large Grade AA Eggs              0\n",
       "Roasted Turkey                                   0\n",
       "dtype: int64"
      ]
     },
     "execution_count": 257,
     "metadata": {},
     "output_type": "execute_result"
    }
   ],
   "source": [
    "basket_sets.sum().head()"
   ]
  },
  {
   "cell_type": "code",
   "execution_count": 258,
   "metadata": {},
   "outputs": [],
   "source": [
    "#creates conditions for the items in the basket.\n",
    "frequent_itemsets = apriori(basket_sets, min_support=0.0005, use_colnames=True)"
   ]
  },
  {
   "cell_type": "code",
   "execution_count": 259,
   "metadata": {},
   "outputs": [],
   "source": [
    "#creates the rules to filter.\n",
    "rules = association_rules(frequent_itemsets, metric=\"lift\", min_threshold=1)\n",
    "rules = rules[['antecedants','consequents','confidence','lift']]"
   ]
  },
  {
   "cell_type": "markdown",
   "metadata": {},
   "source": [
    "## Market Basket for Products"
   ]
  },
  {
   "cell_type": "code",
   "execution_count": 274,
   "metadata": {},
   "outputs": [
    {
     "data": {
      "text/html": [
       "<div>\n",
       "<style scoped>\n",
       "    .dataframe tbody tr th:only-of-type {\n",
       "        vertical-align: middle;\n",
       "    }\n",
       "\n",
       "    .dataframe tbody tr th {\n",
       "        vertical-align: top;\n",
       "    }\n",
       "\n",
       "    .dataframe thead th {\n",
       "        text-align: right;\n",
       "    }\n",
       "</style>\n",
       "<table border=\"1\" class=\"dataframe\">\n",
       "  <thead>\n",
       "    <tr style=\"text-align: right;\">\n",
       "      <th></th>\n",
       "      <th>antecedants</th>\n",
       "      <th>consequents</th>\n",
       "      <th>confidence</th>\n",
       "      <th>lift</th>\n",
       "    </tr>\n",
       "  </thead>\n",
       "  <tbody>\n",
       "    <tr>\n",
       "      <th>9</th>\n",
       "      <td>(White Peach)</td>\n",
       "      <td>(Orange Mango Chicken)</td>\n",
       "      <td>0.666667</td>\n",
       "      <td>100.106667</td>\n",
       "    </tr>\n",
       "    <tr>\n",
       "      <th>13</th>\n",
       "      <td>(Chocolate Almond Crunch Ice Cream, Duck Eggs)</td>\n",
       "      <td>(Orange Mango Chicken)</td>\n",
       "      <td>0.666667</td>\n",
       "      <td>100.106667</td>\n",
       "    </tr>\n",
       "    <tr>\n",
       "      <th>41</th>\n",
       "      <td>(Chocolate Almond Crunch Ice Cream, White Beau...</td>\n",
       "      <td>(Orange Mango Chicken)</td>\n",
       "      <td>0.666667</td>\n",
       "      <td>100.106667</td>\n",
       "    </tr>\n",
       "    <tr>\n",
       "      <th>56</th>\n",
       "      <td>(Whipping Cream Ultra Pasteurized)</td>\n",
       "      <td>(Vanilla With Caramel Low Fat Ice Cream Cone)</td>\n",
       "      <td>1.000000</td>\n",
       "      <td>220.823529</td>\n",
       "    </tr>\n",
       "    <tr>\n",
       "      <th>67</th>\n",
       "      <td>(Organic White English Muffins)</td>\n",
       "      <td>(Chocolate Chip Cookie Dough Frozen Greek Yogu...</td>\n",
       "      <td>1.000000</td>\n",
       "      <td>268.142857</td>\n",
       "    </tr>\n",
       "    <tr>\n",
       "      <th>69</th>\n",
       "      <td>(Creamy Coconut &amp; Peanut Spread)</td>\n",
       "      <td>(Strawberry Rhubarb Yoghurt)</td>\n",
       "      <td>0.666667</td>\n",
       "      <td>312.833333</td>\n",
       "    </tr>\n",
       "    <tr>\n",
       "      <th>84</th>\n",
       "      <td>(Organic Cashew Carrot Ginger Soup)</td>\n",
       "      <td>(Berry Punch Flavored Fruit Drink)</td>\n",
       "      <td>1.000000</td>\n",
       "      <td>170.636364</td>\n",
       "    </tr>\n",
       "    <tr>\n",
       "      <th>86</th>\n",
       "      <td>(Cauliettes Culinary Cuts)</td>\n",
       "      <td>(Vanilla With Caramel Low Fat Ice Cream Cone)</td>\n",
       "      <td>1.000000</td>\n",
       "      <td>220.823529</td>\n",
       "    </tr>\n",
       "    <tr>\n",
       "      <th>113</th>\n",
       "      <td>(Chocolate Almond Crunch Ice Cream, Medium Roa...</td>\n",
       "      <td>(Cheese Shredded Mozzarella Reduced Fat 2%)</td>\n",
       "      <td>0.666667</td>\n",
       "      <td>113.757576</td>\n",
       "    </tr>\n",
       "    <tr>\n",
       "      <th>120</th>\n",
       "      <td>(Organic Creamies Strawberry, Raspberry &amp; Carr...</td>\n",
       "      <td>(Organic Kiwi)</td>\n",
       "      <td>1.000000</td>\n",
       "      <td>938.500000</td>\n",
       "    </tr>\n",
       "    <tr>\n",
       "      <th>133</th>\n",
       "      <td>(Orchard Peach Sorbet)</td>\n",
       "      <td>(Orange Mango Chicken)</td>\n",
       "      <td>1.000000</td>\n",
       "      <td>150.160000</td>\n",
       "    </tr>\n",
       "    <tr>\n",
       "      <th>144</th>\n",
       "      <td>(Berry &amp; Barley Organic Baby Food)</td>\n",
       "      <td>(Organic Spinach Bunch)</td>\n",
       "      <td>0.666667</td>\n",
       "      <td>417.111111</td>\n",
       "    </tr>\n",
       "    <tr>\n",
       "      <th>152</th>\n",
       "      <td>(Organic Pink Lady (Cripps) Apple)</td>\n",
       "      <td>(Red Vine Tomato)</td>\n",
       "      <td>0.666667</td>\n",
       "      <td>1251.333333</td>\n",
       "    </tr>\n",
       "    <tr>\n",
       "      <th>153</th>\n",
       "      <td>(Red Vine Tomato)</td>\n",
       "      <td>(Organic Pink Lady (Cripps) Apple)</td>\n",
       "      <td>1.000000</td>\n",
       "      <td>1251.333333</td>\n",
       "    </tr>\n",
       "    <tr>\n",
       "      <th>194</th>\n",
       "      <td>(Puffs Simply White Cheddar Cheese Flavored Sn...</td>\n",
       "      <td>(Original Multigrain Crackers)</td>\n",
       "      <td>0.666667</td>\n",
       "      <td>357.523810</td>\n",
       "    </tr>\n",
       "  </tbody>\n",
       "</table>\n",
       "</div>"
      ],
      "text/plain": [
       "                                           antecedants  \\\n",
       "9                                        (White Peach)   \n",
       "13      (Chocolate Almond Crunch Ice Cream, Duck Eggs)   \n",
       "41   (Chocolate Almond Crunch Ice Cream, White Beau...   \n",
       "56                  (Whipping Cream Ultra Pasteurized)   \n",
       "67                     (Organic White English Muffins)   \n",
       "69                    (Creamy Coconut & Peanut Spread)   \n",
       "84                 (Organic Cashew Carrot Ginger Soup)   \n",
       "86                          (Cauliettes Culinary Cuts)   \n",
       "113  (Chocolate Almond Crunch Ice Cream, Medium Roa...   \n",
       "120  (Organic Creamies Strawberry, Raspberry & Carr...   \n",
       "133                             (Orchard Peach Sorbet)   \n",
       "144                 (Berry & Barley Organic Baby Food)   \n",
       "152                 (Organic Pink Lady (Cripps) Apple)   \n",
       "153                                  (Red Vine Tomato)   \n",
       "194  (Puffs Simply White Cheddar Cheese Flavored Sn...   \n",
       "\n",
       "                                           consequents  confidence  \\\n",
       "9                               (Orange Mango Chicken)    0.666667   \n",
       "13                              (Orange Mango Chicken)    0.666667   \n",
       "41                              (Orange Mango Chicken)    0.666667   \n",
       "56       (Vanilla With Caramel Low Fat Ice Cream Cone)    1.000000   \n",
       "67   (Chocolate Chip Cookie Dough Frozen Greek Yogu...    1.000000   \n",
       "69                        (Strawberry Rhubarb Yoghurt)    0.666667   \n",
       "84                  (Berry Punch Flavored Fruit Drink)    1.000000   \n",
       "86       (Vanilla With Caramel Low Fat Ice Cream Cone)    1.000000   \n",
       "113        (Cheese Shredded Mozzarella Reduced Fat 2%)    0.666667   \n",
       "120                                     (Organic Kiwi)    1.000000   \n",
       "133                             (Orange Mango Chicken)    1.000000   \n",
       "144                            (Organic Spinach Bunch)    0.666667   \n",
       "152                                  (Red Vine Tomato)    0.666667   \n",
       "153                 (Organic Pink Lady (Cripps) Apple)    1.000000   \n",
       "194                     (Original Multigrain Crackers)    0.666667   \n",
       "\n",
       "            lift  \n",
       "9     100.106667  \n",
       "13    100.106667  \n",
       "41    100.106667  \n",
       "56    220.823529  \n",
       "67    268.142857  \n",
       "69    312.833333  \n",
       "84    170.636364  \n",
       "86    220.823529  \n",
       "113   113.757576  \n",
       "120   938.500000  \n",
       "133   150.160000  \n",
       "144   417.111111  \n",
       "152  1251.333333  \n",
       "153  1251.333333  \n",
       "194   357.523810  "
      ]
     },
     "execution_count": 274,
     "metadata": {},
     "output_type": "execute_result"
    }
   ],
   "source": [
    "rules[(rules['lift'] >= 100) & (rules['confidence']>.5)]"
   ]
  },
  {
   "cell_type": "code",
   "execution_count": 275,
   "metadata": {},
   "outputs": [],
   "source": [
    "#Export data for tableau analysis.\n",
    "rules.to_csv('./data/prod_rules.csv')"
   ]
  },
  {
   "cell_type": "code",
   "execution_count": 216,
   "metadata": {},
   "outputs": [],
   "source": [
    "hidem_ord = user_orders[user_orders['hi_dem'] == True]"
   ]
  },
  {
   "cell_type": "code",
   "execution_count": 217,
   "metadata": {},
   "outputs": [
    {
     "name": "stderr",
     "output_type": "stream",
     "text": [
      "C:\\ProgramData\\Anaconda3\\lib\\site-packages\\ipykernel\\__main__.py:1: SettingWithCopyWarning: \n",
      "A value is trying to be set on a copy of a slice from a DataFrame.\n",
      "Try using .loc[row_indexer,col_indexer] = value instead\n",
      "\n",
      "See the caveats in the documentation: http://pandas.pydata.org/pandas-docs/stable/indexing.html#indexing-view-versus-copy\n",
      "  if __name__ == '__main__':\n"
     ]
    }
   ],
   "source": [
    "hidem_ord['product_id'] = hidem_ord.copy()['product_id'].astype(str)"
   ]
  },
  {
   "cell_type": "code",
   "execution_count": 230,
   "metadata": {},
   "outputs": [],
   "source": [
    "#tranposes the data to ensure that it is correctly fitted.\n",
    "product = ohe.fit_transform(hidem_ord['product_id'].values.reshape(-1,1))"
   ]
  },
  {
   "cell_type": "code",
   "execution_count": 231,
   "metadata": {},
   "outputs": [],
   "source": [
    "p_ohe = pd.DataFrame(product.toarray())\n",
    "products = p_ohe.to_dense()"
   ]
  },
  {
   "cell_type": "code",
   "execution_count": 232,
   "metadata": {},
   "outputs": [],
   "source": [
    "basket = hidem_ord[['user_id']].join(products)"
   ]
  },
  {
   "cell_type": "code",
   "execution_count": 233,
   "metadata": {},
   "outputs": [],
   "source": [
    "#return the total items in the basket from the aisles\n",
    "basket = basket.groupby('user_id').sum()"
   ]
  },
  {
   "cell_type": "code",
   "execution_count": 234,
   "metadata": {},
   "outputs": [],
   "source": [
    "#covert any values to be a binary.\n",
    "def encode_units(x):\n",
    "    if x <= 0:\n",
    "        return 0\n",
    "    if x >= 1:\n",
    "        return 1\n",
    "\n",
    "basket_sets = basket.applymap(encode_units)"
   ]
  },
  {
   "cell_type": "code",
   "execution_count": 235,
   "metadata": {},
   "outputs": [],
   "source": [
    "#creates conditions for the items in the basket.\n",
    "frequent_itemsets = apriori(basket_sets, min_support=0.0007, use_colnames=True)"
   ]
  },
  {
   "cell_type": "code",
   "execution_count": 236,
   "metadata": {},
   "outputs": [],
   "source": [
    "#creates the rules to filter.\n",
    "rules = association_rules(frequent_itemsets, metric=\"lift\", min_threshold=1)\n",
    "rules = rules[['antecedants','consequents','confidence','lift']]"
   ]
  },
  {
   "cell_type": "code",
   "execution_count": 280,
   "metadata": {
    "scrolled": true
   },
   "outputs": [
    {
     "data": {
      "text/html": [
       "<div>\n",
       "<style scoped>\n",
       "    .dataframe tbody tr th:only-of-type {\n",
       "        vertical-align: middle;\n",
       "    }\n",
       "\n",
       "    .dataframe tbody tr th {\n",
       "        vertical-align: top;\n",
       "    }\n",
       "\n",
       "    .dataframe thead th {\n",
       "        text-align: right;\n",
       "    }\n",
       "</style>\n",
       "<table border=\"1\" class=\"dataframe\">\n",
       "  <thead>\n",
       "    <tr style=\"text-align: right;\">\n",
       "      <th></th>\n",
       "      <th>antecedants</th>\n",
       "      <th>consequents</th>\n",
       "      <th>confidence</th>\n",
       "      <th>lift</th>\n",
       "    </tr>\n",
       "  </thead>\n",
       "  <tbody>\n",
       "    <tr>\n",
       "      <th>153</th>\n",
       "      <td>(Red Vine Tomato)</td>\n",
       "      <td>(Organic Pink Lady (Cripps) Apple)</td>\n",
       "      <td>1.000000</td>\n",
       "      <td>1251.333333</td>\n",
       "    </tr>\n",
       "    <tr>\n",
       "      <th>152</th>\n",
       "      <td>(Organic Pink Lady (Cripps) Apple)</td>\n",
       "      <td>(Red Vine Tomato)</td>\n",
       "      <td>0.666667</td>\n",
       "      <td>1251.333333</td>\n",
       "    </tr>\n",
       "    <tr>\n",
       "      <th>120</th>\n",
       "      <td>(Organic Creamies Strawberry, Raspberry &amp; Carr...</td>\n",
       "      <td>(Organic Kiwi)</td>\n",
       "      <td>1.000000</td>\n",
       "      <td>938.500000</td>\n",
       "    </tr>\n",
       "    <tr>\n",
       "      <th>121</th>\n",
       "      <td>(Organic Kiwi)</td>\n",
       "      <td>(Organic Creamies Strawberry, Raspberry &amp; Carr...</td>\n",
       "      <td>0.500000</td>\n",
       "      <td>938.500000</td>\n",
       "    </tr>\n",
       "    <tr>\n",
       "      <th>40</th>\n",
       "      <td>(Chocolate Almond Crunch Ice Cream, Orange Man...</td>\n",
       "      <td>(White Beauty Bar Soap)</td>\n",
       "      <td>0.500000</td>\n",
       "      <td>469.250000</td>\n",
       "    </tr>\n",
       "  </tbody>\n",
       "</table>\n",
       "</div>"
      ],
      "text/plain": [
       "                                           antecedants  \\\n",
       "153                                  (Red Vine Tomato)   \n",
       "152                 (Organic Pink Lady (Cripps) Apple)   \n",
       "120  (Organic Creamies Strawberry, Raspberry & Carr...   \n",
       "121                                     (Organic Kiwi)   \n",
       "40   (Chocolate Almond Crunch Ice Cream, Orange Man...   \n",
       "\n",
       "                                           consequents  confidence  \\\n",
       "153                 (Organic Pink Lady (Cripps) Apple)    1.000000   \n",
       "152                                  (Red Vine Tomato)    0.666667   \n",
       "120                                     (Organic Kiwi)    1.000000   \n",
       "121  (Organic Creamies Strawberry, Raspberry & Carr...    0.500000   \n",
       "40                             (White Beauty Bar Soap)    0.500000   \n",
       "\n",
       "            lift  \n",
       "153  1251.333333  \n",
       "152  1251.333333  \n",
       "120   938.500000  \n",
       "121   938.500000  \n",
       "40    469.250000  "
      ]
     },
     "execution_count": 280,
     "metadata": {},
     "output_type": "execute_result"
    }
   ],
   "source": [
    "rules.sort_values(['lift','confidence'],ascending=False).head()"
   ]
  },
  {
   "cell_type": "code",
   "execution_count": null,
   "metadata": {},
   "outputs": [],
   "source": [
    "rules.to_csv('./data/user_rules.csv')"
   ]
  },
  {
   "cell_type": "code",
   "execution_count": null,
   "metadata": {},
   "outputs": [],
   "source": [
    "#rename the columns for easier analysis in rules. \n",
    "basket_sets.columns = list(range(0,len(pro_dict)))\n",
    "basket_sets.rename(columns=pro_dict,inplace=True)"
   ]
  },
  {
   "cell_type": "code",
   "execution_count": null,
   "metadata": {},
   "outputs": [],
   "source": []
  },
  {
   "cell_type": "code",
   "execution_count": null,
   "metadata": {},
   "outputs": [],
   "source": []
  }
 ],
 "metadata": {
  "anaconda-cloud": {},
  "kernelspec": {
   "display_name": "Python [default]",
   "language": "python",
   "name": "python3"
  },
  "language_info": {
   "codemirror_mode": {
    "name": "ipython",
    "version": 3
   },
   "file_extension": ".py",
   "mimetype": "text/x-python",
   "name": "python",
   "nbconvert_exporter": "python",
   "pygments_lexer": "ipython3",
   "version": "3.5.5"
  }
 },
 "nbformat": 4,
 "nbformat_minor": 2
}
