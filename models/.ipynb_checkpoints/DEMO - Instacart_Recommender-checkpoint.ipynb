{
 "cells": [
  {
   "cell_type": "markdown",
   "metadata": {
    "nbpresent": {
     "id": "878c4fb4-401f-4867-b81d-33fa0c7ce9bf"
    }
   },
   "source": [
    "## Recommender System - Demo"
   ]
  },
  {
   "cell_type": "code",
   "execution_count": 15,
   "metadata": {
    "nbpresent": {
     "id": "18f95f19-f062-4cb9-b193-f85c6ce29f04"
    }
   },
   "outputs": [],
   "source": [
    "#import basic Libraries\n",
    "import pandas as pd\n",
    "import numpy as np\n",
    "\n",
    "#Importing Sklearn\n",
    "from sklearn.preprocessing import StandardScaler, OneHotEncoder\n",
    "from sklearn.metrics.pairwise import cosine_similarity \n",
    "\n",
    "#import pickle to export information\n",
    "import pickle\n",
    "\n",
    "%matplotlib inline"
   ]
  },
  {
   "cell_type": "code",
   "execution_count": 16,
   "metadata": {
    "nbpresent": {
     "id": "e6896cbe-9003-4b0b-83d5-3d4cf256403a"
    }
   },
   "outputs": [],
   "source": [
    "hi_demand_orders = pd.read_csv(\"../data/hi_deman_orders.csv\")"
   ]
  },
  {
   "cell_type": "markdown",
   "metadata": {},
   "source": [
    "### Cleaning the import data"
   ]
  },
  {
   "cell_type": "code",
   "execution_count": 17,
   "metadata": {
    "nbpresent": {
     "id": "bcb423b9-6ab4-4be0-ac8d-003a01e546ab"
    }
   },
   "outputs": [],
   "source": [
    "hi_demand_orders.index = hi_demand_orders['user_id']\n",
    "hi_demand_orders.drop(['Unnamed: 0','user_id'],axis=1, inplace=True)"
   ]
  },
  {
   "cell_type": "markdown",
   "metadata": {},
   "source": [
    "### Recommender Function"
   ]
  },
  {
   "cell_type": "code",
   "execution_count": 18,
   "metadata": {},
   "outputs": [],
   "source": [
    "pickle_in = open(\"recommender\",\"rb\")"
   ]
  },
  {
   "cell_type": "code",
   "execution_count": 19,
   "metadata": {},
   "outputs": [],
   "source": [
    "objects = []\n",
    "with (open(\"recommender\", \"rb\")) as openfile:\n",
    "    while True:\n",
    "        try:\n",
    "            objects.append(pickle.load(openfile))\n",
    "        except EOFError:\n",
    "            break"
   ]
  },
  {
   "cell_type": "code",
   "execution_count": 20,
   "metadata": {
    "nbpresent": {
     "id": "1e440599-cf1c-4bda-b062-513da7d88a34"
    }
   },
   "outputs": [],
   "source": [
    "def Recommender_System(user_id):\n",
    "    \n",
    "    '''\n",
    "    Input User Id to see recommendations for each User\n",
    "    '''\n",
    "    \n",
    "    #finding similar items by users.\n",
    "    u = hi_demand_orders.groupby(['user_id','product_name']).size().sort_values(ascending=False).unstack().fillna(0)\n",
    "    u_sim = pd.DataFrame(cosine_similarity(u),index=u.index,columns=u.index)\n",
    "    \n",
    "    #finding similar products by similar users and listing the preference by similar users.\n",
    "    p = hi_demand_orders.groupby(['product_name','user_id']).size().sort_values(ascending=False).unstack().fillna(0)\n",
    "    products_sim = pd.DataFrame(cosine_similarity(p),index=p.index,columns=p.index)\n",
    "    profile = pd.Series(np.zeros(len(u_sim.columns.tolist())),u_sim[user_id])\n",
    "    \n",
    "    #printing the recommendation\n",
    "    recommendations = pd.Series(np.dot(p.values,u_sim[user_id]), index=p.index)\n",
    "    return recommendations.sort_values(ascending=False).head(), \n",
    "    "
   ]
  },
  {
   "cell_type": "code",
   "execution_count": 35,
   "metadata": {},
   "outputs": [
    {
     "data": {
      "text/plain": [
       "[112108, 79431, 42756, 17227, 56463, 125030, 182389, 98711, 51011, 156353]"
      ]
     },
     "execution_count": 35,
     "metadata": {},
     "output_type": "execute_result"
    }
   ],
   "source": [
    "#gives a list of User Id's to enter\n",
    "hi_demand_orders.index.unique().tolist()[:10]"
   ]
  },
  {
   "cell_type": "code",
   "execution_count": 23,
   "metadata": {
    "nbpresent": {
     "id": "b0820200-62df-49a3-8e28-355ccb715967"
    }
   },
   "outputs": [
    {
     "data": {
      "text/plain": [
       "(product_name\n",
       " Limes                   33.966502\n",
       " Organic Avocado          4.493401\n",
       " Banana                   3.099256\n",
       " Organic Baby Spinach     2.110902\n",
       " Large Lemon              1.926234\n",
       " dtype: float64,)"
      ]
     },
     "execution_count": 23,
     "metadata": {},
     "output_type": "execute_result"
    }
   ],
   "source": [
    "#run to ensure it is responding correctly\n",
    "Recommender_System(67972)"
   ]
  },
  {
   "cell_type": "code",
   "execution_count": 36,
   "metadata": {
    "nbpresent": {
     "id": "94ce6d88-d2fe-4e0c-a333-7c2227d3adbf"
    },
    "scrolled": true
   },
   "outputs": [
    {
     "name": "stdout",
     "output_type": "stream",
     "text": [
      "17227\n"
     ]
    },
    {
     "data": {
      "text/plain": [
       "(product_name\n",
       " Organic Grape Tomatoes    36.037421\n",
       " Banana                     3.348561\n",
       " Organic Baby Spinach       3.103505\n",
       " Organic Strawberries       2.848116\n",
       " Fresh Cauliflower          2.285405\n",
       " dtype: float64,)"
      ]
     },
     "execution_count": 36,
     "metadata": {},
     "output_type": "execute_result"
    }
   ],
   "source": [
    "Recommender_System(int(input()))"
   ]
  },
  {
   "cell_type": "code",
   "execution_count": 21,
   "metadata": {
    "nbpresent": {
     "id": "24c2bc16-9997-4f0e-bd62-754d9f0a4d43"
    }
   },
   "outputs": [],
   "source": [
    "#creates a list of user ids for top 20 users\n",
    "for i in hi_demand_orders.index.unique().tolist()[:20]:\n",
    "    Recommender_System(i)"
   ]
  },
  {
   "cell_type": "code",
   "execution_count": null,
   "metadata": {},
   "outputs": [],
   "source": []
  }
 ],
 "metadata": {
  "anaconda-cloud": {},
  "kernelspec": {
   "display_name": "Python [default]",
   "language": "python",
   "name": "python3"
  },
  "language_info": {
   "codemirror_mode": {
    "name": "ipython",
    "version": 3
   },
   "file_extension": ".py",
   "mimetype": "text/x-python",
   "name": "python",
   "nbconvert_exporter": "python",
   "pygments_lexer": "ipython3",
   "version": "3.5.5"
  },
  "nbpresent": {
   "slides": {
    "0d7baf24-f4a9-4001-b950-cfdb980d38aa": {
     "id": "0d7baf24-f4a9-4001-b950-cfdb980d38aa",
     "prev": null,
     "regions": {
      "1f8deebd-0994-4207-9fed-5bd2bd834bc9": {
       "attrs": {
        "height": 0.8,
        "width": 0.8,
        "x": 0.1,
        "y": 0.1
       },
       "content": {
        "cell": "878c4fb4-401f-4867-b81d-33fa0c7ce9bf",
        "part": "whole"
       },
       "id": "1f8deebd-0994-4207-9fed-5bd2bd834bc9"
      }
     }
    },
    "2984d32b-98c6-4130-b980-8bc6aa45b35e": {
     "id": "2984d32b-98c6-4130-b980-8bc6aa45b35e",
     "prev": "0d7baf24-f4a9-4001-b950-cfdb980d38aa",
     "regions": {
      "8dd1d3c3-e05d-443d-9e00-8cc2d09344e5": {
       "attrs": {
        "height": 0.8,
        "width": 0.45,
        "x": 0.5,
        "y": 0.1
       },
       "id": "8dd1d3c3-e05d-443d-9e00-8cc2d09344e5"
      },
      "dc1a267f-3ae0-402b-8a5f-4e41dc3de338": {
       "attrs": {
        "height": 0.8,
        "width": 0.45,
        "x": 0.05,
        "y": 0.1
       },
       "content": {
        "cell": "24c2bc16-9997-4f0e-bd62-754d9f0a4d43",
        "part": "outputs"
       },
       "id": "dc1a267f-3ae0-402b-8a5f-4e41dc3de338"
      }
     }
    },
    "400a88d6-a0a9-44cc-a7f8-6180e2859e37": {
     "id": "400a88d6-a0a9-44cc-a7f8-6180e2859e37",
     "prev": "f6833224-2fe9-49cc-b4bc-15833fe04510",
     "regions": {
      "1c69414e-48e9-45cb-a2a9-a2623874b049": {
       "attrs": {
        "height": 0.8,
        "width": 0.8,
        "x": 0.1,
        "y": 0.1
       },
       "content": {
        "cell": "1e440599-cf1c-4bda-b062-513da7d88a34",
        "part": "whole"
       },
       "id": "1c69414e-48e9-45cb-a2a9-a2623874b049"
      }
     }
    },
    "59d14701-7b02-44fb-89c5-288d7d3973e7": {
     "id": "59d14701-7b02-44fb-89c5-288d7d3973e7",
     "prev": "f50cb939-60ba-425c-9590-2f7dabb5376e",
     "regions": {
      "74ae777f-df85-42ba-bb50-0d88f9dd6900": {
       "attrs": {
        "height": 0.8,
        "width": 0.8,
        "x": 0.1,
        "y": 0.1
       },
       "content": {
        "cell": "94ce6d88-d2fe-4e0c-a333-7c2227d3adbf",
        "part": "whole"
       },
       "id": "74ae777f-df85-42ba-bb50-0d88f9dd6900"
      }
     }
    },
    "668c06c3-7b00-4703-98e1-a391260cbe88": {
     "id": "668c06c3-7b00-4703-98e1-a391260cbe88",
     "prev": "694851c8-692b-4923-9373-6fbde4412844",
     "regions": {
      "3a2551c3-2b8a-44bb-9a9f-327172fd8af3": {
       "attrs": {
        "height": 0.8,
        "width": 0.8,
        "x": 0.1,
        "y": 0.1
       },
       "content": {
        "cell": "e6896cbe-9003-4b0b-83d5-3d4cf256403a",
        "part": "whole"
       },
       "id": "3a2551c3-2b8a-44bb-9a9f-327172fd8af3"
      }
     }
    },
    "694851c8-692b-4923-9373-6fbde4412844": {
     "id": "694851c8-692b-4923-9373-6fbde4412844",
     "prev": "2984d32b-98c6-4130-b980-8bc6aa45b35e",
     "regions": {
      "1dff421c-cd19-43d9-9ca0-ec2686c2c0a2": {
       "attrs": {
        "height": 0.8,
        "width": 0.8,
        "x": 0.1,
        "y": 0.1
       },
       "content": {
        "cell": "18f95f19-f062-4cb9-b193-f85c6ce29f04",
        "part": "whole"
       },
       "id": "1dff421c-cd19-43d9-9ca0-ec2686c2c0a2"
      }
     }
    },
    "75f8c4b3-86ee-4f4d-a0bf-c5fe430df3c2": {
     "id": "75f8c4b3-86ee-4f4d-a0bf-c5fe430df3c2",
     "prev": "400a88d6-a0a9-44cc-a7f8-6180e2859e37",
     "regions": {
      "0843306e-0e41-4902-897c-ea9a7f90c98c": {
       "attrs": {
        "height": 0.8,
        "width": 0.8,
        "x": 0.1,
        "y": 0.1
       },
       "content": {
        "cell": "24c2bc16-9997-4f0e-bd62-754d9f0a4d43",
        "part": "whole"
       },
       "id": "0843306e-0e41-4902-897c-ea9a7f90c98c"
      }
     }
    },
    "d621da98-90f3-45c4-9601-b20acdff84d4": {
     "id": "d621da98-90f3-45c4-9601-b20acdff84d4",
     "prev": "59d14701-7b02-44fb-89c5-288d7d3973e7",
     "regions": {
      "f9c4af44-54bc-43e7-920e-db4da1092c2a": {
       "attrs": {
        "height": 0.8,
        "width": 0.8,
        "x": 0.1,
        "y": 0.1
       },
       "content": {
        "cell": "a4227506-548c-4d1e-985f-f1d39043db02",
        "part": "whole"
       },
       "id": "f9c4af44-54bc-43e7-920e-db4da1092c2a"
      }
     }
    },
    "f50cb939-60ba-425c-9590-2f7dabb5376e": {
     "id": "f50cb939-60ba-425c-9590-2f7dabb5376e",
     "prev": "75f8c4b3-86ee-4f4d-a0bf-c5fe430df3c2",
     "regions": {
      "634cf1c4-c53d-411f-ac52-a695e3aa7e97": {
       "attrs": {
        "height": 0.8,
        "width": 0.8,
        "x": 0.1,
        "y": 0.1
       },
       "content": {
        "cell": "b0820200-62df-49a3-8e28-355ccb715967",
        "part": "whole"
       },
       "id": "634cf1c4-c53d-411f-ac52-a695e3aa7e97"
      }
     }
    },
    "f6833224-2fe9-49cc-b4bc-15833fe04510": {
     "id": "f6833224-2fe9-49cc-b4bc-15833fe04510",
     "prev": "668c06c3-7b00-4703-98e1-a391260cbe88",
     "regions": {
      "7217ec30-c187-43d5-a1ee-7f341294637b": {
       "attrs": {
        "height": 0.8,
        "width": 0.8,
        "x": 0.1,
        "y": 0.1
       },
       "content": {
        "cell": "bcb423b9-6ab4-4be0-ac8d-003a01e546ab",
        "part": "whole"
       },
       "id": "7217ec30-c187-43d5-a1ee-7f341294637b"
      }
     }
    }
   },
   "themes": {}
  }
 },
 "nbformat": 4,
 "nbformat_minor": 2
}
